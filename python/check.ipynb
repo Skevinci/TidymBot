{
 "cells": [
  {
   "cell_type": "code",
   "execution_count": 2,
   "metadata": {},
   "outputs": [
    {
     "ename": "FileNotFoundError",
     "evalue": "[Errno 2] No such file or directory",
     "output_type": "error",
     "traceback": [
      "\u001b[0;31m---------------------------------------------------------------------------\u001b[0m",
      "\u001b[0;31mFileNotFoundError\u001b[0m                         Traceback (most recent call last)",
      "\u001b[1;32m/home/pi/botlab/python/check.ipynb Cell 1\u001b[0m line \u001b[0;36m2\n\u001b[1;32m     <a href='vscode-notebook-cell://ssh-remote%2B67.194.34.126/home/pi/botlab/python/check.ipynb#W0sdnNjb2RlLXJlbW90ZQ%3D%3D?line=24'>25</a>\u001b[0m     sys\u001b[39m.\u001b[39mexit(\u001b[39m1\u001b[39m)\n\u001b[1;32m     <a href='vscode-notebook-cell://ssh-remote%2B67.194.34.126/home/pi/botlab/python/check.ipynb#W0sdnNjb2RlLXJlbW90ZQ%3D%3D?line=26'>27</a>\u001b[0m file \u001b[39m=\u001b[39m sys\u001b[39m.\u001b[39margv[\u001b[39m1\u001b[39m]\n\u001b[0;32m---> <a href='vscode-notebook-cell://ssh-remote%2B67.194.34.126/home/pi/botlab/python/check.ipynb#W0sdnNjb2RlLXJlbW90ZQ%3D%3D?line=27'>28</a>\u001b[0m log \u001b[39m=\u001b[39m lcm\u001b[39m.\u001b[39;49mEventLog(file, \u001b[39m\"\u001b[39;49m\u001b[39mr\u001b[39;49m\u001b[39m\"\u001b[39;49m)\n\u001b[1;32m     <a href='vscode-notebook-cell://ssh-remote%2B67.194.34.126/home/pi/botlab/python/check.ipynb#W0sdnNjb2RlLXJlbW90ZQ%3D%3D?line=29'>30</a>\u001b[0m encoder_data \u001b[39m=\u001b[39m np\u001b[39m.\u001b[39mempty((\u001b[39m0\u001b[39m, \u001b[39m5\u001b[39m), dtype\u001b[39m=\u001b[39m\u001b[39mint\u001b[39m)\n\u001b[1;32m     <a href='vscode-notebook-cell://ssh-remote%2B67.194.34.126/home/pi/botlab/python/check.ipynb#W0sdnNjb2RlLXJlbW90ZQ%3D%3D?line=30'>31</a>\u001b[0m encoder_init \u001b[39m=\u001b[39m \u001b[39m0\u001b[39m\n",
      "File \u001b[0;32m/usr/local/lib/python3.9/dist-packages/lcm/__init__.py:56\u001b[0m, in \u001b[0;36mEventLog.__init__\u001b[0;34m(self, path, mode, overwrite)\u001b[0m\n\u001b[1;32m     51\u001b[0m     \u001b[39mraise\u001b[39;00m \u001b[39mValueError\u001b[39;00m (\u001b[39m\"\u001b[39m\u001b[39mRefusing to overwrite existing log file \u001b[39m\u001b[39m\"\u001b[39m\n\u001b[1;32m     52\u001b[0m             \u001b[39m\"\u001b[39m\u001b[39munless overwrite is set to True\u001b[39m\u001b[39m\"\u001b[39m)\n\u001b[1;32m     54\u001b[0m \u001b[39mself\u001b[39m\u001b[39m.\u001b[39mmode \u001b[39m=\u001b[39m mode\n\u001b[0;32m---> 56\u001b[0m \u001b[39mself\u001b[39m\u001b[39m.\u001b[39mc_eventlog \u001b[39m=\u001b[39m _lcm\u001b[39m.\u001b[39;49mEventLog (path, mode)\n\u001b[1;32m     57\u001b[0m \u001b[39mself\u001b[39m\u001b[39m.\u001b[39mf \u001b[39m=\u001b[39m \u001b[39mNone\u001b[39;00m\n",
      "\u001b[0;31mFileNotFoundError\u001b[0m: [Errno 2] No such file or directory"
     ]
    }
   ],
   "source": [
    "import lcm\n",
    "import numpy as np\n",
    "from lcmtypes import mbot_motor_command_t, timestamp_t\n",
    "import time\n",
    "\n",
    "lc = lcm.LCM(\"udpm://239.255.76.67:7667?ttl=1\")\n",
    "\n",
    "DRIVE_LENGTH = 2\n",
    "STOP_LENGTH = 1\n",
    "ROTATE_LENGTH = 2\n",
    "\n",
    "def current_utime(): return int(time.time() * 1e6)\n",
    "\n",
    "def rotate():\n",
    "    rotate = mbot_motor_command_t()\n",
    "    rotate.utime = current_utime()\n",
    "    rotate.trans_v = 0.0\n",
    "    rotate.angular_v = np.pi / 8\n",
    "    rotate_time = timestamp_t()\n",
    "    rotate_time.utime = rotate.utime\n",
    "    lc.publish(\"MBOT_TIMESYNC\", rotate_time.encode())\n",
    "    lc.publish(\"MBOT_MOTOR_COMMAND\", rotate.encode())\n",
    "\n",
    "def stop():\n",
    "    stop = mbot_motor_command_t()\n",
    "    stop.utime = current_utime()\n",
    "    stop.trans_v = 0.0\n",
    "    stop.angular_v = 0.0\n",
    "    stop_time = timestamp_t()\n",
    "    stop_time.utime = stop.utime\n",
    "    lc.publish(\"MBOT_TIMESYNC\", stop_time.encode())\n",
    "    lc.publish(\"MBOT_MOTOR_COMMAND\", stop.encode())\n",
    "    \n",
    "    \n",
    "def foward():\n",
    "    drive = mbot_motor_command_t()\n",
    "    drive.utime = current_utime()\n",
    "    drive.trans_v = 0.25\n",
    "    drive.angular_v = 0.0\n",
    "\n",
    "    drive_time = timestamp_t()\n",
    "    drive_time.utime = drive.utime\n",
    "\n",
    "    lc.publish(\"MBOT_TIMESYNC\", drive_time.encode())\n",
    "    lc.publish(\"MBOT_MOTOR_COMMAND\", drive.encode())\n"
   ]
  },
  {
   "cell_type": "code",
   "execution_count": null,
   "metadata": {},
   "outputs": [],
   "source": []
  }
 ],
 "metadata": {
  "kernelspec": {
   "display_name": "Python 3",
   "language": "python",
   "name": "python3"
  },
  "language_info": {
   "codemirror_mode": {
    "name": "ipython",
    "version": 3
   },
   "file_extension": ".py",
   "mimetype": "text/x-python",
   "name": "python",
   "nbconvert_exporter": "python",
   "pygments_lexer": "ipython3",
   "version": "3.9.2"
  },
  "orig_nbformat": 4
 },
 "nbformat": 4,
 "nbformat_minor": 2
}
